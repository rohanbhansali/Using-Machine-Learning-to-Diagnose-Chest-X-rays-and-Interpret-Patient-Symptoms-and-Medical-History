{
 "cells": [
  {
   "cell_type": "code",
   "execution_count": null,
   "metadata": {},
   "outputs": [],
   "source": [
    "from keras.models import Model\n",
    "from keras.layers.core import Dense, Dropout, Activation\n",
    "from keras.layers.convolutional import Convolution2D\n",
    "from keras.layers.pooling import AveragePooling2D\n",
    "from keras.layers.pooling import GlobalAveragePooling2D\n",
    "from keras.layers import Input, merge\n",
    "from keras.layers.normalization import BatchNormalization\n",
    "from keras.regularizers import l2\n",
    "import keras.backend as K"
   ]
  },
  {
   "cell_type": "code",
   "execution_count": null,
   "metadata": {},
   "outputs": [],
   "source": [
    "def conv_block(ip, nb_filter, dropout_rate=None, weight_decay=1E-4):\n",
    "\n",
    "    x = Activation('relu')(ip)\n",
    "    x = Convolution2D(nb_filter, 3, 3, init=\"he_uniform\", border_mode=\"same\", bias=False,\n",
    "                      W_regularizer=l2(weight_decay))(x)\n",
    "    if dropout_rate:\n",
    "        x = Dropout(dropout_rate)(x)\n",
    "\n",
    "    return x"
   ]
  },
  {
   "cell_type": "code",
   "execution_count": null,
   "metadata": {},
   "outputs": [],
   "source": [
    "def transition_block(ip, nb_filter, dropout_rate=None, weight_decay=1E-4):\n",
    "\n",
    "    concat_axis = 1 if K.image_dim_ordering() == \"th\" else -1\n",
    "\n",
    "    x = Convolution2D(nb_filter, 1, 1, init=\"he_uniform\", border_mode=\"same\", bias=False,\n",
    "                      W_regularizer=l2(weight_decay))(ip)\n",
    "    if dropout_rate:\n",
    "        x = Dropout(dropout_rate)(x)\n",
    "    x = AveragePooling2D((2, 2), strides=(2, 2))(x)\n",
    "\n",
    "    x = BatchNormalization(mode=0, axis=concat_axis, gamma_regularizer=l2(weight_decay),\n",
    "                           beta_regularizer=l2(weight_decay))(x)\n",
    "\n",
    "    return x"
   ]
  },
  {
   "cell_type": "code",
   "execution_count": null,
   "metadata": {},
   "outputs": [],
   "source": [
    "def dense_block(x, nb_layers, nb_filter, growth_rate, dropout_rate=None, weight_decay=1E-4):\n",
    "    \n",
    "    concat_axis = 1 if K.image_dim_ordering() == \"th\" else -1\n",
    "\n",
    "    feature_list = [x]\n",
    "\n",
    "    for i in range(nb_layers):\n",
    "        x = conv_block(x, growth_rate, dropout_rate, weight_decay)\n",
    "        feature_list.append(x)\n",
    "        x = merge(feature_list, mode='concat', concat_axis=concat_axis)\n",
    "        nb_filter += growth_rate\n",
    "\n",
    "    return x, nb_filter"
   ]
  },
  {
   "cell_type": "code",
   "execution_count": null,
   "metadata": {},
   "outputs": [],
   "source": [
    "def create_dense_net(nb_classes, img_dim, depth=40, nb_dense_block=3, growth_rate=12, nb_filter=16, dropout_rate=None,\n",
    "                     weight_decay=1E-4, verbose=True):\n",
    "\n",
    "    model_input = Input(shape=img_dim)\n",
    "\n",
    "    concat_axis = 1 if K.image_dim_ordering() == \"th\" else -1\n",
    "\n",
    "    assert (depth - 4) % 3 == 0, \"Depth must be 3 N + 4\"\n",
    "\n",
    "    nb_layers = int((depth - 4) / 3)\n",
    "\n",
    "    x = Convolution2D(nb_filter, 3, 3, init=\"he_uniform\", border_mode=\"same\", name=\"initial_conv2D\", bias=False,\n",
    "                      W_regularizer=l2(weight_decay))(model_input)\n",
    "\n",
    "    x = BatchNormalization(mode=0, axis=concat_axis, gamma_regularizer=l2(weight_decay),\n",
    "                            beta_regularizer=l2(weight_decay))(x)\n",
    "\n",
    "    for block_idx in range(nb_dense_block - 1):\n",
    "        x, nb_filter = dense_block(x, nb_layers, nb_filter, growth_rate, dropout_rate=dropout_rate,\n",
    "                                   weight_decay=weight_decay)\n",
    "\n",
    "        x = transition_block(x, nb_filter, dropout_rate=dropout_rate, weight_decay=weight_decay)\n",
    "\n",
    "    x, nb_filter = dense_block(x, nb_layers, nb_filter, growth_rate, dropout_rate=dropout_rate,\n",
    "                               weight_decay=weight_decay)\n",
    "\n",
    "    x = Activation('relu')(x)\n",
    "    x = GlobalAveragePooling2D()(x)\n",
    "    x = Dense(nb_classes, activation='softmax', W_regularizer=l2(weight_decay), b_regularizer=l2(weight_decay))(x)\n",
    "\n",
    "    densenet = Model(input=model_input, output=x, name=\"create_dense_net\")\n",
    "\n",
    "    if verbose: print(\"DenseNet-%d-%d created.\" % (depth, growth_rate))\n",
    "\n",
    "    return densenet"
   ]
  }
 ],
 "metadata": {
  "kernelspec": {
   "display_name": "Python 3",
   "language": "python",
   "name": "python3"
  },
  "language_info": {
   "codemirror_mode": {
    "name": "ipython",
    "version": 3
   },
   "file_extension": ".py",
   "mimetype": "text/x-python",
   "name": "python",
   "nbconvert_exporter": "python",
   "pygments_lexer": "ipython3",
   "version": "3.7.4"
  }
 },
 "nbformat": 4,
 "nbformat_minor": 2
}
